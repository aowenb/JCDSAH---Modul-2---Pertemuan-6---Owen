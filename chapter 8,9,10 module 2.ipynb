{
 "metadata": {
  "language_info": {
   "codemirror_mode": {
    "name": "ipython",
    "version": 3
   },
   "file_extension": ".py",
   "mimetype": "text/x-python",
   "name": "python",
   "nbconvert_exporter": "python",
   "pygments_lexer": "ipython3",
   "version": "3.9.2-final"
  },
  "orig_nbformat": 2,
  "kernelspec": {
   "name": "python3",
   "display_name": "Python 3.9.2 64-bit",
   "metadata": {
    "interpreter": {
     "hash": "aee8b7b246df8f9039afb4144a1f6fd8d2ca17a180786b69acc140d282b71a49"
    }
   }
  }
 },
 "nbformat": 4,
 "nbformat_minor": 2,
 "cells": [
  {
   "cell_type": "code",
   "execution_count": 1,
   "metadata": {},
   "outputs": [],
   "source": [
    "import numpy as np\n",
    "import pandas as pd"
   ]
  },
  {
   "cell_type": "code",
   "execution_count": 19,
   "metadata": {},
   "outputs": [],
   "source": [
    "key = pd.array('K0 K1 K2 K3'.split())\n",
    "key_2  = pd.array('K0 K1 K3 K4'.split())\n",
    "a = pd.array('A0 A1 A2 A3'.split())\n",
    "b = pd.array('B0 B1 B2 B3'.split())\n",
    "c = pd.array('C0 C1 C2 C3'.split())\n",
    "d = pd.array('D0 D1 D2 D3'.split())\n",
    "\n",
    "left_array = list(zip(key,a,b))\n",
    "right_array = list(zip(key_2,c,d))"
   ]
  },
  {
   "cell_type": "code",
   "execution_count": 20,
   "metadata": {},
   "outputs": [
    {
     "output_type": "execute_result",
     "data": {
      "text/plain": [
       "  key   A   B\n",
       "0  K0  A0  B0\n",
       "1  K1  A1  B1\n",
       "2  K2  A2  B2\n",
       "3  K3  A3  B3"
      ],
      "text/html": "<div>\n<style scoped>\n    .dataframe tbody tr th:only-of-type {\n        vertical-align: middle;\n    }\n\n    .dataframe tbody tr th {\n        vertical-align: top;\n    }\n\n    .dataframe thead th {\n        text-align: right;\n    }\n</style>\n<table border=\"1\" class=\"dataframe\">\n  <thead>\n    <tr style=\"text-align: right;\">\n      <th></th>\n      <th>key</th>\n      <th>A</th>\n      <th>B</th>\n    </tr>\n  </thead>\n  <tbody>\n    <tr>\n      <th>0</th>\n      <td>K0</td>\n      <td>A0</td>\n      <td>B0</td>\n    </tr>\n    <tr>\n      <th>1</th>\n      <td>K1</td>\n      <td>A1</td>\n      <td>B1</td>\n    </tr>\n    <tr>\n      <th>2</th>\n      <td>K2</td>\n      <td>A2</td>\n      <td>B2</td>\n    </tr>\n    <tr>\n      <th>3</th>\n      <td>K3</td>\n      <td>A3</td>\n      <td>B3</td>\n    </tr>\n  </tbody>\n</table>\n</div>"
     },
     "metadata": {},
     "execution_count": 20
    }
   ],
   "source": [
    "left = pd.DataFrame(\n",
    "    data = left_array,\n",
    "    index = '0 1 2 3'.split(),\n",
    "    columns = 'key A B'.split()\n",
    ")\n",
    "left"
   ]
  },
  {
   "cell_type": "code",
   "execution_count": 21,
   "metadata": {},
   "outputs": [
    {
     "output_type": "execute_result",
     "data": {
      "text/plain": [
       "  key   C   D\n",
       "0  K0  C0  D0\n",
       "1  K1  C1  D1\n",
       "2  K3  C2  D2\n",
       "3  K4  C3  D3"
      ],
      "text/html": "<div>\n<style scoped>\n    .dataframe tbody tr th:only-of-type {\n        vertical-align: middle;\n    }\n\n    .dataframe tbody tr th {\n        vertical-align: top;\n    }\n\n    .dataframe thead th {\n        text-align: right;\n    }\n</style>\n<table border=\"1\" class=\"dataframe\">\n  <thead>\n    <tr style=\"text-align: right;\">\n      <th></th>\n      <th>key</th>\n      <th>C</th>\n      <th>D</th>\n    </tr>\n  </thead>\n  <tbody>\n    <tr>\n      <th>0</th>\n      <td>K0</td>\n      <td>C0</td>\n      <td>D0</td>\n    </tr>\n    <tr>\n      <th>1</th>\n      <td>K1</td>\n      <td>C1</td>\n      <td>D1</td>\n    </tr>\n    <tr>\n      <th>2</th>\n      <td>K3</td>\n      <td>C2</td>\n      <td>D2</td>\n    </tr>\n    <tr>\n      <th>3</th>\n      <td>K4</td>\n      <td>C3</td>\n      <td>D3</td>\n    </tr>\n  </tbody>\n</table>\n</div>"
     },
     "metadata": {},
     "execution_count": 21
    }
   ],
   "source": [
    "right = pd.DataFrame(\n",
    "    data = right_array,\n",
    "    index = '0 1 2 3'.split(),\n",
    "    columns = 'key C D'.split()\n",
    ")\n",
    "right"
   ]
  },
  {
   "cell_type": "code",
   "execution_count": 22,
   "metadata": {},
   "outputs": [
    {
     "output_type": "execute_result",
     "data": {
      "text/plain": [
       "  key   A   B   C   D\n",
       "0  K0  A0  B0  C0  D0\n",
       "1  K1  A1  B1  C1  D1\n",
       "2  K3  A3  B3  C2  D2"
      ],
      "text/html": "<div>\n<style scoped>\n    .dataframe tbody tr th:only-of-type {\n        vertical-align: middle;\n    }\n\n    .dataframe tbody tr th {\n        vertical-align: top;\n    }\n\n    .dataframe thead th {\n        text-align: right;\n    }\n</style>\n<table border=\"1\" class=\"dataframe\">\n  <thead>\n    <tr style=\"text-align: right;\">\n      <th></th>\n      <th>key</th>\n      <th>A</th>\n      <th>B</th>\n      <th>C</th>\n      <th>D</th>\n    </tr>\n  </thead>\n  <tbody>\n    <tr>\n      <th>0</th>\n      <td>K0</td>\n      <td>A0</td>\n      <td>B0</td>\n      <td>C0</td>\n      <td>D0</td>\n    </tr>\n    <tr>\n      <th>1</th>\n      <td>K1</td>\n      <td>A1</td>\n      <td>B1</td>\n      <td>C1</td>\n      <td>D1</td>\n    </tr>\n    <tr>\n      <th>2</th>\n      <td>K3</td>\n      <td>A3</td>\n      <td>B3</td>\n      <td>C2</td>\n      <td>D2</td>\n    </tr>\n  </tbody>\n</table>\n</div>"
     },
     "metadata": {},
     "execution_count": 22
    }
   ],
   "source": [
    "pd.merge(left,right,on = 'key') # inner join"
   ]
  },
  {
   "cell_type": "code",
   "execution_count": 23,
   "metadata": {},
   "outputs": [
    {
     "output_type": "execute_result",
     "data": {
      "text/plain": [
       "  key    A    B    C    D\n",
       "0  K0   A0   B0   C0   D0\n",
       "1  K1   A1   B1   C1   D1\n",
       "2  K2   A2   B2  NaN  NaN\n",
       "3  K3   A3   B3   C2   D2\n",
       "4  K4  NaN  NaN   C3   D3"
      ],
      "text/html": "<div>\n<style scoped>\n    .dataframe tbody tr th:only-of-type {\n        vertical-align: middle;\n    }\n\n    .dataframe tbody tr th {\n        vertical-align: top;\n    }\n\n    .dataframe thead th {\n        text-align: right;\n    }\n</style>\n<table border=\"1\" class=\"dataframe\">\n  <thead>\n    <tr style=\"text-align: right;\">\n      <th></th>\n      <th>key</th>\n      <th>A</th>\n      <th>B</th>\n      <th>C</th>\n      <th>D</th>\n    </tr>\n  </thead>\n  <tbody>\n    <tr>\n      <th>0</th>\n      <td>K0</td>\n      <td>A0</td>\n      <td>B0</td>\n      <td>C0</td>\n      <td>D0</td>\n    </tr>\n    <tr>\n      <th>1</th>\n      <td>K1</td>\n      <td>A1</td>\n      <td>B1</td>\n      <td>C1</td>\n      <td>D1</td>\n    </tr>\n    <tr>\n      <th>2</th>\n      <td>K2</td>\n      <td>A2</td>\n      <td>B2</td>\n      <td>NaN</td>\n      <td>NaN</td>\n    </tr>\n    <tr>\n      <th>3</th>\n      <td>K3</td>\n      <td>A3</td>\n      <td>B3</td>\n      <td>C2</td>\n      <td>D2</td>\n    </tr>\n    <tr>\n      <th>4</th>\n      <td>K4</td>\n      <td>NaN</td>\n      <td>NaN</td>\n      <td>C3</td>\n      <td>D3</td>\n    </tr>\n  </tbody>\n</table>\n</div>"
     },
     "metadata": {},
     "execution_count": 23
    }
   ],
   "source": [
    "pd.merge(left,right,how ='outer',on = 'key') #  full outer join"
   ]
  },
  {
   "cell_type": "code",
   "execution_count": 24,
   "metadata": {},
   "outputs": [
    {
     "output_type": "execute_result",
     "data": {
      "text/plain": [
       "  key    A    B   C   D\n",
       "0  K0   A0   B0  C0  D0\n",
       "1  K1   A1   B1  C1  D1\n",
       "2  K3   A3   B3  C2  D2\n",
       "3  K4  NaN  NaN  C3  D3"
      ],
      "text/html": "<div>\n<style scoped>\n    .dataframe tbody tr th:only-of-type {\n        vertical-align: middle;\n    }\n\n    .dataframe tbody tr th {\n        vertical-align: top;\n    }\n\n    .dataframe thead th {\n        text-align: right;\n    }\n</style>\n<table border=\"1\" class=\"dataframe\">\n  <thead>\n    <tr style=\"text-align: right;\">\n      <th></th>\n      <th>key</th>\n      <th>A</th>\n      <th>B</th>\n      <th>C</th>\n      <th>D</th>\n    </tr>\n  </thead>\n  <tbody>\n    <tr>\n      <th>0</th>\n      <td>K0</td>\n      <td>A0</td>\n      <td>B0</td>\n      <td>C0</td>\n      <td>D0</td>\n    </tr>\n    <tr>\n      <th>1</th>\n      <td>K1</td>\n      <td>A1</td>\n      <td>B1</td>\n      <td>C1</td>\n      <td>D1</td>\n    </tr>\n    <tr>\n      <th>2</th>\n      <td>K3</td>\n      <td>A3</td>\n      <td>B3</td>\n      <td>C2</td>\n      <td>D2</td>\n    </tr>\n    <tr>\n      <th>3</th>\n      <td>K4</td>\n      <td>NaN</td>\n      <td>NaN</td>\n      <td>C3</td>\n      <td>D3</td>\n    </tr>\n  </tbody>\n</table>\n</div>"
     },
     "metadata": {},
     "execution_count": 24
    }
   ],
   "source": [
    "pd.merge(left,right,how = 'right',on = 'key') # right outer join"
   ]
  },
  {
   "cell_type": "code",
   "execution_count": 25,
   "metadata": {},
   "outputs": [
    {
     "output_type": "execute_result",
     "data": {
      "text/plain": [
       "  key   A   B    C    D\n",
       "0  K0  A0  B0   C0   D0\n",
       "1  K1  A1  B1   C1   D1\n",
       "2  K2  A2  B2  NaN  NaN\n",
       "3  K3  A3  B3   C2   D2"
      ],
      "text/html": "<div>\n<style scoped>\n    .dataframe tbody tr th:only-of-type {\n        vertical-align: middle;\n    }\n\n    .dataframe tbody tr th {\n        vertical-align: top;\n    }\n\n    .dataframe thead th {\n        text-align: right;\n    }\n</style>\n<table border=\"1\" class=\"dataframe\">\n  <thead>\n    <tr style=\"text-align: right;\">\n      <th></th>\n      <th>key</th>\n      <th>A</th>\n      <th>B</th>\n      <th>C</th>\n      <th>D</th>\n    </tr>\n  </thead>\n  <tbody>\n    <tr>\n      <th>0</th>\n      <td>K0</td>\n      <td>A0</td>\n      <td>B0</td>\n      <td>C0</td>\n      <td>D0</td>\n    </tr>\n    <tr>\n      <th>1</th>\n      <td>K1</td>\n      <td>A1</td>\n      <td>B1</td>\n      <td>C1</td>\n      <td>D1</td>\n    </tr>\n    <tr>\n      <th>2</th>\n      <td>K2</td>\n      <td>A2</td>\n      <td>B2</td>\n      <td>NaN</td>\n      <td>NaN</td>\n    </tr>\n    <tr>\n      <th>3</th>\n      <td>K3</td>\n      <td>A3</td>\n      <td>B3</td>\n      <td>C2</td>\n      <td>D2</td>\n    </tr>\n  </tbody>\n</table>\n</div>"
     },
     "metadata": {},
     "execution_count": 25
    }
   ],
   "source": [
    "pd.merge(left,right,how = 'left', on = 'key') # left outer join"
   ]
  },
  {
   "cell_type": "code",
   "execution_count": 30,
   "metadata": {},
   "outputs": [],
   "source": [
    "new_left = pd.DataFrame(\n",
    "    data = list(zip(a,b)),\n",
    "    index = key,\n",
    "    columns = 'A B'.split()\n",
    ")\n",
    "new_right = pd.DataFrame(\n",
    "    data = list(zip(c,d)),\n",
    "    index = key_2,\n",
    "    columns = 'C D'.split()\n",
    ")"
   ]
  },
  {
   "cell_type": "code",
   "execution_count": 31,
   "metadata": {},
   "outputs": [
    {
     "output_type": "execute_result",
     "data": {
      "text/plain": [
       "     A   B\n",
       "K0  A0  B0\n",
       "K1  A1  B1\n",
       "K2  A2  B2\n",
       "K3  A3  B3"
      ],
      "text/html": "<div>\n<style scoped>\n    .dataframe tbody tr th:only-of-type {\n        vertical-align: middle;\n    }\n\n    .dataframe tbody tr th {\n        vertical-align: top;\n    }\n\n    .dataframe thead th {\n        text-align: right;\n    }\n</style>\n<table border=\"1\" class=\"dataframe\">\n  <thead>\n    <tr style=\"text-align: right;\">\n      <th></th>\n      <th>A</th>\n      <th>B</th>\n    </tr>\n  </thead>\n  <tbody>\n    <tr>\n      <th>K0</th>\n      <td>A0</td>\n      <td>B0</td>\n    </tr>\n    <tr>\n      <th>K1</th>\n      <td>A1</td>\n      <td>B1</td>\n    </tr>\n    <tr>\n      <th>K2</th>\n      <td>A2</td>\n      <td>B2</td>\n    </tr>\n    <tr>\n      <th>K3</th>\n      <td>A3</td>\n      <td>B3</td>\n    </tr>\n  </tbody>\n</table>\n</div>"
     },
     "metadata": {},
     "execution_count": 31
    }
   ],
   "source": [
    "new_left"
   ]
  },
  {
   "cell_type": "code",
   "execution_count": 32,
   "metadata": {},
   "outputs": [
    {
     "output_type": "execute_result",
     "data": {
      "text/plain": [
       "     C   D\n",
       "K0  C0  D0\n",
       "K1  C1  D1\n",
       "K3  C2  D2\n",
       "K4  C3  D3"
      ],
      "text/html": "<div>\n<style scoped>\n    .dataframe tbody tr th:only-of-type {\n        vertical-align: middle;\n    }\n\n    .dataframe tbody tr th {\n        vertical-align: top;\n    }\n\n    .dataframe thead th {\n        text-align: right;\n    }\n</style>\n<table border=\"1\" class=\"dataframe\">\n  <thead>\n    <tr style=\"text-align: right;\">\n      <th></th>\n      <th>C</th>\n      <th>D</th>\n    </tr>\n  </thead>\n  <tbody>\n    <tr>\n      <th>K0</th>\n      <td>C0</td>\n      <td>D0</td>\n    </tr>\n    <tr>\n      <th>K1</th>\n      <td>C1</td>\n      <td>D1</td>\n    </tr>\n    <tr>\n      <th>K3</th>\n      <td>C2</td>\n      <td>D2</td>\n    </tr>\n    <tr>\n      <th>K4</th>\n      <td>C3</td>\n      <td>D3</td>\n    </tr>\n  </tbody>\n</table>\n</div>"
     },
     "metadata": {},
     "execution_count": 32
    }
   ],
   "source": [
    "new_right"
   ]
  },
  {
   "cell_type": "code",
   "execution_count": 34,
   "metadata": {},
   "outputs": [
    {
     "output_type": "execute_result",
     "data": {
      "text/plain": [
       "     A   B    C    D\n",
       "K0  A0  B0   C0   D0\n",
       "K1  A1  B1   C1   D1\n",
       "K2  A2  B2  NaN  NaN\n",
       "K3  A3  B3   C2   D2"
      ],
      "text/html": "<div>\n<style scoped>\n    .dataframe tbody tr th:only-of-type {\n        vertical-align: middle;\n    }\n\n    .dataframe tbody tr th {\n        vertical-align: top;\n    }\n\n    .dataframe thead th {\n        text-align: right;\n    }\n</style>\n<table border=\"1\" class=\"dataframe\">\n  <thead>\n    <tr style=\"text-align: right;\">\n      <th></th>\n      <th>A</th>\n      <th>B</th>\n      <th>C</th>\n      <th>D</th>\n    </tr>\n  </thead>\n  <tbody>\n    <tr>\n      <th>K0</th>\n      <td>A0</td>\n      <td>B0</td>\n      <td>C0</td>\n      <td>D0</td>\n    </tr>\n    <tr>\n      <th>K1</th>\n      <td>A1</td>\n      <td>B1</td>\n      <td>C1</td>\n      <td>D1</td>\n    </tr>\n    <tr>\n      <th>K2</th>\n      <td>A2</td>\n      <td>B2</td>\n      <td>NaN</td>\n      <td>NaN</td>\n    </tr>\n    <tr>\n      <th>K3</th>\n      <td>A3</td>\n      <td>B3</td>\n      <td>C2</td>\n      <td>D2</td>\n    </tr>\n  </tbody>\n</table>\n</div>"
     },
     "metadata": {},
     "execution_count": 34
    }
   ],
   "source": [
    "new_left.join(new_right)"
   ]
  },
  {
   "cell_type": "code",
   "execution_count": 37,
   "metadata": {},
   "outputs": [
    {
     "output_type": "execute_result",
     "data": {
      "text/plain": [
       "      A    B    C    D\n",
       "K0   A0   B0   C0   D0\n",
       "K1   A1   B1   C1   D1\n",
       "K2   A2   B2  NaN  NaN\n",
       "K3   A3   B3   C2   D2\n",
       "K4  NaN  NaN   C3   D3"
      ],
      "text/html": "<div>\n<style scoped>\n    .dataframe tbody tr th:only-of-type {\n        vertical-align: middle;\n    }\n\n    .dataframe tbody tr th {\n        vertical-align: top;\n    }\n\n    .dataframe thead th {\n        text-align: right;\n    }\n</style>\n<table border=\"1\" class=\"dataframe\">\n  <thead>\n    <tr style=\"text-align: right;\">\n      <th></th>\n      <th>A</th>\n      <th>B</th>\n      <th>C</th>\n      <th>D</th>\n    </tr>\n  </thead>\n  <tbody>\n    <tr>\n      <th>K0</th>\n      <td>A0</td>\n      <td>B0</td>\n      <td>C0</td>\n      <td>D0</td>\n    </tr>\n    <tr>\n      <th>K1</th>\n      <td>A1</td>\n      <td>B1</td>\n      <td>C1</td>\n      <td>D1</td>\n    </tr>\n    <tr>\n      <th>K2</th>\n      <td>A2</td>\n      <td>B2</td>\n      <td>NaN</td>\n      <td>NaN</td>\n    </tr>\n    <tr>\n      <th>K3</th>\n      <td>A3</td>\n      <td>B3</td>\n      <td>C2</td>\n      <td>D2</td>\n    </tr>\n    <tr>\n      <th>K4</th>\n      <td>NaN</td>\n      <td>NaN</td>\n      <td>C3</td>\n      <td>D3</td>\n    </tr>\n  </tbody>\n</table>\n</div>"
     },
     "metadata": {},
     "execution_count": 37
    }
   ],
   "source": [
    "new_left.join(new_right, how = 'outer')"
   ]
  },
  {
   "cell_type": "code",
   "execution_count": 39,
   "metadata": {},
   "outputs": [
    {
     "output_type": "execute_result",
     "data": {
      "text/plain": [
       "    A   B   C   D\n",
       "0  A0  B0  C0  D0\n",
       "1  A1  B1  C1  D1\n",
       "2  A2  B2  C2  D2\n",
       "3  A3  B3  C3  D3"
      ],
      "text/html": "<div>\n<style scoped>\n    .dataframe tbody tr th:only-of-type {\n        vertical-align: middle;\n    }\n\n    .dataframe tbody tr th {\n        vertical-align: top;\n    }\n\n    .dataframe thead th {\n        text-align: right;\n    }\n</style>\n<table border=\"1\" class=\"dataframe\">\n  <thead>\n    <tr style=\"text-align: right;\">\n      <th></th>\n      <th>A</th>\n      <th>B</th>\n      <th>C</th>\n      <th>D</th>\n    </tr>\n  </thead>\n  <tbody>\n    <tr>\n      <th>0</th>\n      <td>A0</td>\n      <td>B0</td>\n      <td>C0</td>\n      <td>D0</td>\n    </tr>\n    <tr>\n      <th>1</th>\n      <td>A1</td>\n      <td>B1</td>\n      <td>C1</td>\n      <td>D1</td>\n    </tr>\n    <tr>\n      <th>2</th>\n      <td>A2</td>\n      <td>B2</td>\n      <td>C2</td>\n      <td>D2</td>\n    </tr>\n    <tr>\n      <th>3</th>\n      <td>A3</td>\n      <td>B3</td>\n      <td>C3</td>\n      <td>D3</td>\n    </tr>\n  </tbody>\n</table>\n</div>"
     },
     "metadata": {},
     "execution_count": 39
    }
   ],
   "source": [
    "df1 = pd.DataFrame(\n",
    "    data = list(zip(a,b,c,d)),\n",
    "    index = '0 1 2 3'.split(),\n",
    "    columns = 'A B C D'.split()\n",
    ")\n",
    "df1"
   ]
  },
  {
   "cell_type": "code",
   "execution_count": 41,
   "metadata": {},
   "outputs": [
    {
     "output_type": "execute_result",
     "data": {
      "text/plain": [
       "    A   B   C   D\n",
       "4  A4  B4  C4  D4\n",
       "5  A5  B5  C5  D5\n",
       "6  A6  B6  C6  D6\n",
       "7  A7  B7  C7  D7"
      ],
      "text/html": "<div>\n<style scoped>\n    .dataframe tbody tr th:only-of-type {\n        vertical-align: middle;\n    }\n\n    .dataframe tbody tr th {\n        vertical-align: top;\n    }\n\n    .dataframe thead th {\n        text-align: right;\n    }\n</style>\n<table border=\"1\" class=\"dataframe\">\n  <thead>\n    <tr style=\"text-align: right;\">\n      <th></th>\n      <th>A</th>\n      <th>B</th>\n      <th>C</th>\n      <th>D</th>\n    </tr>\n  </thead>\n  <tbody>\n    <tr>\n      <th>4</th>\n      <td>A4</td>\n      <td>B4</td>\n      <td>C4</td>\n      <td>D4</td>\n    </tr>\n    <tr>\n      <th>5</th>\n      <td>A5</td>\n      <td>B5</td>\n      <td>C5</td>\n      <td>D5</td>\n    </tr>\n    <tr>\n      <th>6</th>\n      <td>A6</td>\n      <td>B6</td>\n      <td>C6</td>\n      <td>D6</td>\n    </tr>\n    <tr>\n      <th>7</th>\n      <td>A7</td>\n      <td>B7</td>\n      <td>C7</td>\n      <td>D7</td>\n    </tr>\n  </tbody>\n</table>\n</div>"
     },
     "metadata": {},
     "execution_count": 41
    }
   ],
   "source": [
    "a_2 = 'A4 A5 A6 A7'.split()\n",
    "b_2 = 'B4 B5 B6 B7'.split()\n",
    "c_2 = 'C4 C5 C6 C7'.split()\n",
    "d_2 = 'D4 D5 D6 D7'.split()\n",
    "df2_array = list(zip(a_2,b_2,c_2,d_2))\n",
    "df2 = pd.DataFrame(\n",
    "    data = df2_array,\n",
    "    index = '4 5 6 7'.split(),\n",
    "    columns = 'A B C D'.split()\n",
    ")\n",
    "df2"
   ]
  },
  {
   "cell_type": "code",
   "execution_count": 42,
   "metadata": {},
   "outputs": [
    {
     "output_type": "execute_result",
     "data": {
      "text/plain": [
       "     A   B   C   D\n",
       "8   A4  B4  C4  D4\n",
       "9   A5  B5  C5  D5\n",
       "10  A6  B6  C6  D6\n",
       "11  A7  B7  C7  D7"
      ],
      "text/html": "<div>\n<style scoped>\n    .dataframe tbody tr th:only-of-type {\n        vertical-align: middle;\n    }\n\n    .dataframe tbody tr th {\n        vertical-align: top;\n    }\n\n    .dataframe thead th {\n        text-align: right;\n    }\n</style>\n<table border=\"1\" class=\"dataframe\">\n  <thead>\n    <tr style=\"text-align: right;\">\n      <th></th>\n      <th>A</th>\n      <th>B</th>\n      <th>C</th>\n      <th>D</th>\n    </tr>\n  </thead>\n  <tbody>\n    <tr>\n      <th>8</th>\n      <td>A4</td>\n      <td>B4</td>\n      <td>C4</td>\n      <td>D4</td>\n    </tr>\n    <tr>\n      <th>9</th>\n      <td>A5</td>\n      <td>B5</td>\n      <td>C5</td>\n      <td>D5</td>\n    </tr>\n    <tr>\n      <th>10</th>\n      <td>A6</td>\n      <td>B6</td>\n      <td>C6</td>\n      <td>D6</td>\n    </tr>\n    <tr>\n      <th>11</th>\n      <td>A7</td>\n      <td>B7</td>\n      <td>C7</td>\n      <td>D7</td>\n    </tr>\n  </tbody>\n</table>\n</div>"
     },
     "metadata": {},
     "execution_count": 42
    }
   ],
   "source": [
    "a_3 = 'A8 A9 A10 A11'.split()\n",
    "b_3 = 'B8 B9 B10 B11'.split()\n",
    "c_3 = 'C8 C9 C10 C11'.split()\n",
    "d_3 = 'D8 D9 D10 D11'.split()\n",
    "df3_array = list(zip(a_3,b_3,c_3,d_3))\n",
    "df3 = pd.DataFrame(\n",
    "    data = df2_array,\n",
    "    index = '8 9 10 11'.split(),\n",
    "    columns = 'A B C D'.split()\n",
    ")\n",
    "df3"
   ]
  },
  {
   "cell_type": "code",
   "execution_count": 45,
   "metadata": {},
   "outputs": [
    {
     "output_type": "execute_result",
     "data": {
      "text/plain": [
       "     A   B   C   D\n",
       "0   A0  B0  C0  D0\n",
       "1   A1  B1  C1  D1\n",
       "2   A2  B2  C2  D2\n",
       "3   A3  B3  C3  D3\n",
       "4   A4  B4  C4  D4\n",
       "5   A5  B5  C5  D5\n",
       "6   A6  B6  C6  D6\n",
       "7   A7  B7  C7  D7\n",
       "8   A4  B4  C4  D4\n",
       "9   A5  B5  C5  D5\n",
       "10  A6  B6  C6  D6\n",
       "11  A7  B7  C7  D7"
      ],
      "text/html": "<div>\n<style scoped>\n    .dataframe tbody tr th:only-of-type {\n        vertical-align: middle;\n    }\n\n    .dataframe tbody tr th {\n        vertical-align: top;\n    }\n\n    .dataframe thead th {\n        text-align: right;\n    }\n</style>\n<table border=\"1\" class=\"dataframe\">\n  <thead>\n    <tr style=\"text-align: right;\">\n      <th></th>\n      <th>A</th>\n      <th>B</th>\n      <th>C</th>\n      <th>D</th>\n    </tr>\n  </thead>\n  <tbody>\n    <tr>\n      <th>0</th>\n      <td>A0</td>\n      <td>B0</td>\n      <td>C0</td>\n      <td>D0</td>\n    </tr>\n    <tr>\n      <th>1</th>\n      <td>A1</td>\n      <td>B1</td>\n      <td>C1</td>\n      <td>D1</td>\n    </tr>\n    <tr>\n      <th>2</th>\n      <td>A2</td>\n      <td>B2</td>\n      <td>C2</td>\n      <td>D2</td>\n    </tr>\n    <tr>\n      <th>3</th>\n      <td>A3</td>\n      <td>B3</td>\n      <td>C3</td>\n      <td>D3</td>\n    </tr>\n    <tr>\n      <th>4</th>\n      <td>A4</td>\n      <td>B4</td>\n      <td>C4</td>\n      <td>D4</td>\n    </tr>\n    <tr>\n      <th>5</th>\n      <td>A5</td>\n      <td>B5</td>\n      <td>C5</td>\n      <td>D5</td>\n    </tr>\n    <tr>\n      <th>6</th>\n      <td>A6</td>\n      <td>B6</td>\n      <td>C6</td>\n      <td>D6</td>\n    </tr>\n    <tr>\n      <th>7</th>\n      <td>A7</td>\n      <td>B7</td>\n      <td>C7</td>\n      <td>D7</td>\n    </tr>\n    <tr>\n      <th>8</th>\n      <td>A4</td>\n      <td>B4</td>\n      <td>C4</td>\n      <td>D4</td>\n    </tr>\n    <tr>\n      <th>9</th>\n      <td>A5</td>\n      <td>B5</td>\n      <td>C5</td>\n      <td>D5</td>\n    </tr>\n    <tr>\n      <th>10</th>\n      <td>A6</td>\n      <td>B6</td>\n      <td>C6</td>\n      <td>D6</td>\n    </tr>\n    <tr>\n      <th>11</th>\n      <td>A7</td>\n      <td>B7</td>\n      <td>C7</td>\n      <td>D7</td>\n    </tr>\n  </tbody>\n</table>\n</div>"
     },
     "metadata": {},
     "execution_count": 45
    }
   ],
   "source": [
    "pd.concat([df1,df2,df3])"
   ]
  },
  {
   "cell_type": "code",
   "execution_count": 56,
   "metadata": {},
   "outputs": [
    {
     "output_type": "execute_result",
     "data": {
      "text/plain": [
       "    0   1   2   3   4   5   6   7   8   9  10  11\n",
       "A  A0  A1  A2  A3  A4  A5  A6  A7  A4  A5  A6  A7\n",
       "B  B0  B1  B2  B3  B4  B5  B6  B7  B4  B5  B6  B7\n",
       "C  C0  C1  C2  C3  C4  C5  C6  C7  C4  C5  C6  C7\n",
       "D  D0  D1  D2  D3  D4  D5  D6  D7  D4  D5  D6  D7"
      ],
      "text/html": "<div>\n<style scoped>\n    .dataframe tbody tr th:only-of-type {\n        vertical-align: middle;\n    }\n\n    .dataframe tbody tr th {\n        vertical-align: top;\n    }\n\n    .dataframe thead th {\n        text-align: right;\n    }\n</style>\n<table border=\"1\" class=\"dataframe\">\n  <thead>\n    <tr style=\"text-align: right;\">\n      <th></th>\n      <th>0</th>\n      <th>1</th>\n      <th>2</th>\n      <th>3</th>\n      <th>4</th>\n      <th>5</th>\n      <th>6</th>\n      <th>7</th>\n      <th>8</th>\n      <th>9</th>\n      <th>10</th>\n      <th>11</th>\n    </tr>\n  </thead>\n  <tbody>\n    <tr>\n      <th>A</th>\n      <td>A0</td>\n      <td>A1</td>\n      <td>A2</td>\n      <td>A3</td>\n      <td>A4</td>\n      <td>A5</td>\n      <td>A6</td>\n      <td>A7</td>\n      <td>A4</td>\n      <td>A5</td>\n      <td>A6</td>\n      <td>A7</td>\n    </tr>\n    <tr>\n      <th>B</th>\n      <td>B0</td>\n      <td>B1</td>\n      <td>B2</td>\n      <td>B3</td>\n      <td>B4</td>\n      <td>B5</td>\n      <td>B6</td>\n      <td>B7</td>\n      <td>B4</td>\n      <td>B5</td>\n      <td>B6</td>\n      <td>B7</td>\n    </tr>\n    <tr>\n      <th>C</th>\n      <td>C0</td>\n      <td>C1</td>\n      <td>C2</td>\n      <td>C3</td>\n      <td>C4</td>\n      <td>C5</td>\n      <td>C6</td>\n      <td>C7</td>\n      <td>C4</td>\n      <td>C5</td>\n      <td>C6</td>\n      <td>C7</td>\n    </tr>\n    <tr>\n      <th>D</th>\n      <td>D0</td>\n      <td>D1</td>\n      <td>D2</td>\n      <td>D3</td>\n      <td>D4</td>\n      <td>D5</td>\n      <td>D6</td>\n      <td>D7</td>\n      <td>D4</td>\n      <td>D5</td>\n      <td>D6</td>\n      <td>D7</td>\n    </tr>\n  </tbody>\n</table>\n</div>"
     },
     "metadata": {},
     "execution_count": 56
    }
   ],
   "source": [
    "pd.concat([df1,df2,df3]).transpose()"
   ]
  },
  {
   "cell_type": "code",
   "execution_count": 54,
   "metadata": {},
   "outputs": [
    {
     "output_type": "execute_result",
     "data": {
      "text/plain": [
       "      A    B    C    D    A    B    C    D    A    B    C    D\n",
       "0    A0   B0   C0   D0  NaN  NaN  NaN  NaN  NaN  NaN  NaN  NaN\n",
       "1    A1   B1   C1   D1  NaN  NaN  NaN  NaN  NaN  NaN  NaN  NaN\n",
       "2    A2   B2   C2   D2  NaN  NaN  NaN  NaN  NaN  NaN  NaN  NaN\n",
       "3    A3   B3   C3   D3  NaN  NaN  NaN  NaN  NaN  NaN  NaN  NaN\n",
       "4   NaN  NaN  NaN  NaN   A4   B4   C4   D4  NaN  NaN  NaN  NaN\n",
       "5   NaN  NaN  NaN  NaN   A5   B5   C5   D5  NaN  NaN  NaN  NaN\n",
       "6   NaN  NaN  NaN  NaN   A6   B6   C6   D6  NaN  NaN  NaN  NaN\n",
       "7   NaN  NaN  NaN  NaN   A7   B7   C7   D7  NaN  NaN  NaN  NaN\n",
       "8   NaN  NaN  NaN  NaN  NaN  NaN  NaN  NaN   A4   B4   C4   D4\n",
       "9   NaN  NaN  NaN  NaN  NaN  NaN  NaN  NaN   A5   B5   C5   D5\n",
       "10  NaN  NaN  NaN  NaN  NaN  NaN  NaN  NaN   A6   B6   C6   D6\n",
       "11  NaN  NaN  NaN  NaN  NaN  NaN  NaN  NaN   A7   B7   C7   D7"
      ],
      "text/html": "<div>\n<style scoped>\n    .dataframe tbody tr th:only-of-type {\n        vertical-align: middle;\n    }\n\n    .dataframe tbody tr th {\n        vertical-align: top;\n    }\n\n    .dataframe thead th {\n        text-align: right;\n    }\n</style>\n<table border=\"1\" class=\"dataframe\">\n  <thead>\n    <tr style=\"text-align: right;\">\n      <th></th>\n      <th>A</th>\n      <th>B</th>\n      <th>C</th>\n      <th>D</th>\n      <th>A</th>\n      <th>B</th>\n      <th>C</th>\n      <th>D</th>\n      <th>A</th>\n      <th>B</th>\n      <th>C</th>\n      <th>D</th>\n    </tr>\n  </thead>\n  <tbody>\n    <tr>\n      <th>0</th>\n      <td>A0</td>\n      <td>B0</td>\n      <td>C0</td>\n      <td>D0</td>\n      <td>NaN</td>\n      <td>NaN</td>\n      <td>NaN</td>\n      <td>NaN</td>\n      <td>NaN</td>\n      <td>NaN</td>\n      <td>NaN</td>\n      <td>NaN</td>\n    </tr>\n    <tr>\n      <th>1</th>\n      <td>A1</td>\n      <td>B1</td>\n      <td>C1</td>\n      <td>D1</td>\n      <td>NaN</td>\n      <td>NaN</td>\n      <td>NaN</td>\n      <td>NaN</td>\n      <td>NaN</td>\n      <td>NaN</td>\n      <td>NaN</td>\n      <td>NaN</td>\n    </tr>\n    <tr>\n      <th>2</th>\n      <td>A2</td>\n      <td>B2</td>\n      <td>C2</td>\n      <td>D2</td>\n      <td>NaN</td>\n      <td>NaN</td>\n      <td>NaN</td>\n      <td>NaN</td>\n      <td>NaN</td>\n      <td>NaN</td>\n      <td>NaN</td>\n      <td>NaN</td>\n    </tr>\n    <tr>\n      <th>3</th>\n      <td>A3</td>\n      <td>B3</td>\n      <td>C3</td>\n      <td>D3</td>\n      <td>NaN</td>\n      <td>NaN</td>\n      <td>NaN</td>\n      <td>NaN</td>\n      <td>NaN</td>\n      <td>NaN</td>\n      <td>NaN</td>\n      <td>NaN</td>\n    </tr>\n    <tr>\n      <th>4</th>\n      <td>NaN</td>\n      <td>NaN</td>\n      <td>NaN</td>\n      <td>NaN</td>\n      <td>A4</td>\n      <td>B4</td>\n      <td>C4</td>\n      <td>D4</td>\n      <td>NaN</td>\n      <td>NaN</td>\n      <td>NaN</td>\n      <td>NaN</td>\n    </tr>\n    <tr>\n      <th>5</th>\n      <td>NaN</td>\n      <td>NaN</td>\n      <td>NaN</td>\n      <td>NaN</td>\n      <td>A5</td>\n      <td>B5</td>\n      <td>C5</td>\n      <td>D5</td>\n      <td>NaN</td>\n      <td>NaN</td>\n      <td>NaN</td>\n      <td>NaN</td>\n    </tr>\n    <tr>\n      <th>6</th>\n      <td>NaN</td>\n      <td>NaN</td>\n      <td>NaN</td>\n      <td>NaN</td>\n      <td>A6</td>\n      <td>B6</td>\n      <td>C6</td>\n      <td>D6</td>\n      <td>NaN</td>\n      <td>NaN</td>\n      <td>NaN</td>\n      <td>NaN</td>\n    </tr>\n    <tr>\n      <th>7</th>\n      <td>NaN</td>\n      <td>NaN</td>\n      <td>NaN</td>\n      <td>NaN</td>\n      <td>A7</td>\n      <td>B7</td>\n      <td>C7</td>\n      <td>D7</td>\n      <td>NaN</td>\n      <td>NaN</td>\n      <td>NaN</td>\n      <td>NaN</td>\n    </tr>\n    <tr>\n      <th>8</th>\n      <td>NaN</td>\n      <td>NaN</td>\n      <td>NaN</td>\n      <td>NaN</td>\n      <td>NaN</td>\n      <td>NaN</td>\n      <td>NaN</td>\n      <td>NaN</td>\n      <td>A4</td>\n      <td>B4</td>\n      <td>C4</td>\n      <td>D4</td>\n    </tr>\n    <tr>\n      <th>9</th>\n      <td>NaN</td>\n      <td>NaN</td>\n      <td>NaN</td>\n      <td>NaN</td>\n      <td>NaN</td>\n      <td>NaN</td>\n      <td>NaN</td>\n      <td>NaN</td>\n      <td>A5</td>\n      <td>B5</td>\n      <td>C5</td>\n      <td>D5</td>\n    </tr>\n    <tr>\n      <th>10</th>\n      <td>NaN</td>\n      <td>NaN</td>\n      <td>NaN</td>\n      <td>NaN</td>\n      <td>NaN</td>\n      <td>NaN</td>\n      <td>NaN</td>\n      <td>NaN</td>\n      <td>A6</td>\n      <td>B6</td>\n      <td>C6</td>\n      <td>D6</td>\n    </tr>\n    <tr>\n      <th>11</th>\n      <td>NaN</td>\n      <td>NaN</td>\n      <td>NaN</td>\n      <td>NaN</td>\n      <td>NaN</td>\n      <td>NaN</td>\n      <td>NaN</td>\n      <td>NaN</td>\n      <td>A7</td>\n      <td>B7</td>\n      <td>C7</td>\n      <td>D7</td>\n    </tr>\n  </tbody>\n</table>\n</div>"
     },
     "metadata": {},
     "execution_count": 54
    }
   ],
   "source": [
    "pd.concat([df1,df2,df3],axis = 1)"
   ]
  },
  {
   "cell_type": "code",
   "execution_count": 59,
   "metadata": {},
   "outputs": [
    {
     "output_type": "execute_result",
     "data": {
      "text/plain": [
       "   col1  col2 col3\n",
       "0     1   444  abc\n",
       "1     2   555  def\n",
       "2     3   666  ghi\n",
       "3     4   444  xyz"
      ],
      "text/html": "<div>\n<style scoped>\n    .dataframe tbody tr th:only-of-type {\n        vertical-align: middle;\n    }\n\n    .dataframe tbody tr th {\n        vertical-align: top;\n    }\n\n    .dataframe thead th {\n        text-align: right;\n    }\n</style>\n<table border=\"1\" class=\"dataframe\">\n  <thead>\n    <tr style=\"text-align: right;\">\n      <th></th>\n      <th>col1</th>\n      <th>col2</th>\n      <th>col3</th>\n    </tr>\n  </thead>\n  <tbody>\n    <tr>\n      <th>0</th>\n      <td>1</td>\n      <td>444</td>\n      <td>abc</td>\n    </tr>\n    <tr>\n      <th>1</th>\n      <td>2</td>\n      <td>555</td>\n      <td>def</td>\n    </tr>\n    <tr>\n      <th>2</th>\n      <td>3</td>\n      <td>666</td>\n      <td>ghi</td>\n    </tr>\n    <tr>\n      <th>3</th>\n      <td>4</td>\n      <td>444</td>\n      <td>xyz</td>\n    </tr>\n  </tbody>\n</table>\n</div>"
     },
     "metadata": {},
     "execution_count": 59
    }
   ],
   "source": [
    "df = pd.DataFrame(\n",
    "    {'col1' : [1,2,3,4],\n",
    "    'col2' : [444,555,666,444],\n",
    "    'col3' : ['abc','def','ghi','xyz']\n",
    "    }\n",
    ")\n",
    "df.head()"
   ]
  },
  {
   "cell_type": "code",
   "execution_count": 60,
   "metadata": {},
   "outputs": [
    {
     "output_type": "execute_result",
     "data": {
      "text/plain": [
       "0    222.0\n",
       "1    277.5\n",
       "2    333.0\n",
       "3    222.0\n",
       "Name: col2, dtype: float64"
      ]
     },
     "metadata": {},
     "execution_count": 60
    }
   ],
   "source": [
    "def divide(x):\n",
    "    return x/2\n",
    "df['col2'].apply(divide)"
   ]
  },
  {
   "cell_type": "code",
   "execution_count": 61,
   "metadata": {},
   "outputs": [
    {
     "output_type": "execute_result",
     "data": {
      "text/plain": [
       "0    3\n",
       "1    3\n",
       "2    3\n",
       "3    3\n",
       "Name: col3, dtype: int64"
      ]
     },
     "metadata": {},
     "execution_count": 61
    }
   ],
   "source": [
    "df['col3'].apply(len)"
   ]
  },
  {
   "cell_type": "code",
   "execution_count": 63,
   "metadata": {},
   "outputs": [
    {
     "output_type": "execute_result",
     "data": {
      "text/plain": [
       "4"
      ]
     },
     "metadata": {},
     "execution_count": 63
    }
   ],
   "source": [
    "len(df['col3'])"
   ]
  },
  {
   "cell_type": "code",
   "execution_count": 65,
   "metadata": {},
   "outputs": [
    {
     "output_type": "execute_result",
     "data": {
      "text/plain": [
       "0     3\n",
       "1     6\n",
       "2     9\n",
       "3    12\n",
       "Name: col1, dtype: int64"
      ]
     },
     "metadata": {},
     "execution_count": 65
    }
   ],
   "source": [
    "df['col1'].apply(lambda x: x*3)"
   ]
  },
  {
   "cell_type": "code",
   "execution_count": 67,
   "metadata": {},
   "outputs": [
    {
     "output_type": "execute_result",
     "data": {
      "text/plain": [
       "0    8.794416\n",
       "1    9.116344\n",
       "2    9.379378\n",
       "3    8.794416\n",
       "Name: col2, dtype: float64"
      ]
     },
     "metadata": {},
     "execution_count": 67
    }
   ],
   "source": [
    "import math as m\n",
    "df['col2'].apply(lambda x : m.log2(x))"
   ]
  },
  {
   "cell_type": "code",
   "execution_count": 69,
   "metadata": {},
   "outputs": [
    {
     "output_type": "execute_result",
     "data": {
      "text/plain": [
       "   col1  col2 col3  col4\n",
       "0     1   444  abc   445\n",
       "1     2   555  def   557\n",
       "2     3   666  ghi   669\n",
       "3     4   444  xyz   448"
      ],
      "text/html": "<div>\n<style scoped>\n    .dataframe tbody tr th:only-of-type {\n        vertical-align: middle;\n    }\n\n    .dataframe tbody tr th {\n        vertical-align: top;\n    }\n\n    .dataframe thead th {\n        text-align: right;\n    }\n</style>\n<table border=\"1\" class=\"dataframe\">\n  <thead>\n    <tr style=\"text-align: right;\">\n      <th></th>\n      <th>col1</th>\n      <th>col2</th>\n      <th>col3</th>\n      <th>col4</th>\n    </tr>\n  </thead>\n  <tbody>\n    <tr>\n      <th>0</th>\n      <td>1</td>\n      <td>444</td>\n      <td>abc</td>\n      <td>445</td>\n    </tr>\n    <tr>\n      <th>1</th>\n      <td>2</td>\n      <td>555</td>\n      <td>def</td>\n      <td>557</td>\n    </tr>\n    <tr>\n      <th>2</th>\n      <td>3</td>\n      <td>666</td>\n      <td>ghi</td>\n      <td>669</td>\n    </tr>\n    <tr>\n      <th>3</th>\n      <td>4</td>\n      <td>444</td>\n      <td>xyz</td>\n      <td>448</td>\n    </tr>\n  </tbody>\n</table>\n</div>"
     },
     "metadata": {},
     "execution_count": 69
    }
   ],
   "source": [
    "df['col4'] = df['col1'] + df['col2']\n",
    "df"
   ]
  },
  {
   "cell_type": "code",
   "execution_count": 98,
   "metadata": {},
   "outputs": [
    {
     "output_type": "execute_result",
     "data": {
      "text/plain": [
       "     A    B  C  D\n",
       "0  foo  one  x  1\n",
       "1  foo  one  y  3\n",
       "2  foo  two  x  2\n",
       "3  bar  two  y  5\n",
       "4  bar  one  x  4\n",
       "5  bar  one  y  1"
      ],
      "text/html": "<div>\n<style scoped>\n    .dataframe tbody tr th:only-of-type {\n        vertical-align: middle;\n    }\n\n    .dataframe tbody tr th {\n        vertical-align: top;\n    }\n\n    .dataframe thead th {\n        text-align: right;\n    }\n</style>\n<table border=\"1\" class=\"dataframe\">\n  <thead>\n    <tr style=\"text-align: right;\">\n      <th></th>\n      <th>A</th>\n      <th>B</th>\n      <th>C</th>\n      <th>D</th>\n    </tr>\n  </thead>\n  <tbody>\n    <tr>\n      <th>0</th>\n      <td>foo</td>\n      <td>one</td>\n      <td>x</td>\n      <td>1</td>\n    </tr>\n    <tr>\n      <th>1</th>\n      <td>foo</td>\n      <td>one</td>\n      <td>y</td>\n      <td>3</td>\n    </tr>\n    <tr>\n      <th>2</th>\n      <td>foo</td>\n      <td>two</td>\n      <td>x</td>\n      <td>2</td>\n    </tr>\n    <tr>\n      <th>3</th>\n      <td>bar</td>\n      <td>two</td>\n      <td>y</td>\n      <td>5</td>\n    </tr>\n    <tr>\n      <th>4</th>\n      <td>bar</td>\n      <td>one</td>\n      <td>x</td>\n      <td>4</td>\n    </tr>\n    <tr>\n      <th>5</th>\n      <td>bar</td>\n      <td>one</td>\n      <td>y</td>\n      <td>1</td>\n    </tr>\n  </tbody>\n</table>\n</div>"
     },
     "metadata": {},
     "execution_count": 98
    }
   ],
   "source": [
    "a_p = pd.array('foo foo foo bar bar bar'.split())\n",
    "b_p = pd.array('one one two two one one'.split())\n",
    "c_p = pd.array('x y x y x y'.split())\n",
    "d_p = pd.array('1 3 2 5 4 1'.split())\n",
    "data = list(zip(a_p,b_p,c_p,d_p))\n",
    "df_pivot = pd.DataFrame(\n",
    "    data = data,\n",
    "    index = '0 1 2 3 4 5'.split(),\n",
    "    columns = 'A B C D'.split()\n",
    ")\n",
    "df_pivot"
   ]
  },
  {
   "cell_type": "code",
   "execution_count": 110,
   "metadata": {},
   "outputs": [
    {
     "output_type": "execute_result",
     "data": {
      "text/plain": [
       "     A    B  C  D\n",
       "0  foo  one  x  1\n",
       "1  foo  one  y  3\n",
       "2  foo  two  x  2\n",
       "3  bar  two  y  5\n",
       "4  bar  one  x  4\n",
       "5  bar  one  y  1"
      ],
      "text/html": "<div>\n<style scoped>\n    .dataframe tbody tr th:only-of-type {\n        vertical-align: middle;\n    }\n\n    .dataframe tbody tr th {\n        vertical-align: top;\n    }\n\n    .dataframe thead th {\n        text-align: right;\n    }\n</style>\n<table border=\"1\" class=\"dataframe\">\n  <thead>\n    <tr style=\"text-align: right;\">\n      <th></th>\n      <th>A</th>\n      <th>B</th>\n      <th>C</th>\n      <th>D</th>\n    </tr>\n  </thead>\n  <tbody>\n    <tr>\n      <th>0</th>\n      <td>foo</td>\n      <td>one</td>\n      <td>x</td>\n      <td>1</td>\n    </tr>\n    <tr>\n      <th>1</th>\n      <td>foo</td>\n      <td>one</td>\n      <td>y</td>\n      <td>3</td>\n    </tr>\n    <tr>\n      <th>2</th>\n      <td>foo</td>\n      <td>two</td>\n      <td>x</td>\n      <td>2</td>\n    </tr>\n    <tr>\n      <th>3</th>\n      <td>bar</td>\n      <td>two</td>\n      <td>y</td>\n      <td>5</td>\n    </tr>\n    <tr>\n      <th>4</th>\n      <td>bar</td>\n      <td>one</td>\n      <td>x</td>\n      <td>4</td>\n    </tr>\n    <tr>\n      <th>5</th>\n      <td>bar</td>\n      <td>one</td>\n      <td>y</td>\n      <td>1</td>\n    </tr>\n  </tbody>\n</table>\n</div>"
     },
     "metadata": {},
     "execution_count": 110
    }
   ],
   "source": [
    "data_2 = { 'A' : ['foo','foo','foo','bar','bar','bar'],'B':['one','one','two','two','one','one'],'C':['x','y','x','y','x','y'],'D':[1,3,2,5,4,1]}\n",
    "dfp = pd.DataFrame(data_2)\n",
    "dfp"
   ]
  },
  {
   "cell_type": "code",
   "execution_count": 124,
   "metadata": {},
   "outputs": [
    {
     "output_type": "execute_result",
     "data": {
      "text/plain": [
       "C          x    y\n",
       "A   B            \n",
       "bar one  4.0  1.0\n",
       "    two  NaN  5.0\n",
       "foo one  1.0  3.0\n",
       "    two  2.0  NaN"
      ],
      "text/html": "<div>\n<style scoped>\n    .dataframe tbody tr th:only-of-type {\n        vertical-align: middle;\n    }\n\n    .dataframe tbody tr th {\n        vertical-align: top;\n    }\n\n    .dataframe thead th {\n        text-align: right;\n    }\n</style>\n<table border=\"1\" class=\"dataframe\">\n  <thead>\n    <tr style=\"text-align: right;\">\n      <th></th>\n      <th>C</th>\n      <th>x</th>\n      <th>y</th>\n    </tr>\n    <tr>\n      <th>A</th>\n      <th>B</th>\n      <th></th>\n      <th></th>\n    </tr>\n  </thead>\n  <tbody>\n    <tr>\n      <th rowspan=\"2\" valign=\"top\">bar</th>\n      <th>one</th>\n      <td>4.0</td>\n      <td>1.0</td>\n    </tr>\n    <tr>\n      <th>two</th>\n      <td>NaN</td>\n      <td>5.0</td>\n    </tr>\n    <tr>\n      <th rowspan=\"2\" valign=\"top\">foo</th>\n      <th>one</th>\n      <td>1.0</td>\n      <td>3.0</td>\n    </tr>\n    <tr>\n      <th>two</th>\n      <td>2.0</td>\n      <td>NaN</td>\n    </tr>\n  </tbody>\n</table>\n</div>"
     },
     "metadata": {},
     "execution_count": 124
    }
   ],
   "source": [
    "dfp.pivot_table(values='D',index = ['A','B'],columns=['C'])"
   ]
  },
  {
   "cell_type": "code",
   "execution_count": 121,
   "metadata": {},
   "outputs": [
    {
     "output_type": "execute_result",
     "data": {
      "text/plain": [
       "     No Kuesioner  Nama Kuesioner  \\\n",
       "0               9     Kuesioner 9   \n",
       "1             123   Kuesioner 123   \n",
       "2             124   Kuesioner 124   \n",
       "3             143   Kuesioner 143   \n",
       "4             144   Kuesioner 144   \n",
       "..            ...             ...   \n",
       "134          1988  Kuesioner 1988   \n",
       "135          1994  Kuesioner 1994   \n",
       "136          1997  Kuesioner 1997   \n",
       "137          1999  Kuesioner 1999   \n",
       "138          2000  Kuesioner 2000   \n",
       "\n",
       "                                      Nama Surveyor  No. Surveyor  \\\n",
       "0                   Surveyor 1 Aceh Besar - Lambaro     302306658   \n",
       "1    Surveyor 13 Kota Tangerang Selatan - Paku Jaya     104818320   \n",
       "2    Surveyor 13 Kota Tangerang Selatan - Paku Jaya     104818320   \n",
       "3                    Surveyor 15 Tangerang - Jatake     828954014   \n",
       "4                    Surveyor 15 Tangerang - Jatake     828954014   \n",
       "..                                              ...           ...   \n",
       "134             Surveyor 199 Batu Bara - Pulausejuk     665567563   \n",
       "135               Surveyor 200 Langkat - Naman Jahe     405678149   \n",
       "136               Surveyor 200 Langkat - Naman Jahe     405678149   \n",
       "137               Surveyor 200 Langkat - Naman Jahe     405678149   \n",
       "138               Surveyor 200 Langkat - Naman Jahe     405678149   \n",
       "\n",
       "    Waktu Submit Responden Asli / Pengganti  \\\n",
       "0     05/04/2019                       Asli   \n",
       "1     02/04/2019                  Pengganti   \n",
       "2     02/04/2019                  Pengganti   \n",
       "3     02/04/2019                  Pengganti   \n",
       "4     02/04/2019                       Asli   \n",
       "..           ...                        ...   \n",
       "134   31/03/2019                       Asli   \n",
       "135   29/03/2019                       Asli   \n",
       "136   30/03/2019                       Asli   \n",
       "137   30/03/2019                  Pengganti   \n",
       "138   30/03/2019                  Pengganti   \n",
       "\n",
       "                                           Kunjungan 1 Kunjungan 2  \\\n",
       "0                                                  NaN         NaN   \n",
       "1                 31 Mar 2019 15:49 Tidak ada di rumah         NaN   \n",
       "2                       31 Mar 2019 16:38 Sudah pindah         NaN   \n",
       "3    30 Mar 2019 05:55 karena yang bersangkutan tid...         NaN   \n",
       "4                                                  NaN         NaN   \n",
       "..                                                 ...         ...   \n",
       "134                                                NaN         NaN   \n",
       "135                                                NaN         NaN   \n",
       "136                                                NaN         NaN   \n",
       "137                  30 Mar 2019 13:03 SUDAH MENINGGAL         NaN   \n",
       "138                30 Mar 2019 12:40 TIDAK ADA DIRUMAH         NaN   \n",
       "\n",
       "    Kunjungan 3  Kunjungan 4  ...               DAPIL        Provinsi P1  P2  \\\n",
       "0           NaN          NaN  ...              ACEH I            Aceh  4   4   \n",
       "1           NaN          NaN  ...          BANTEN III          Banten  1  16   \n",
       "2           NaN          NaN  ...          BANTEN III          Banten  4   3   \n",
       "3           NaN          NaN  ...          BANTEN III          Banten  2  17   \n",
       "4           NaN          NaN  ...          BANTEN III          Banten  3   3   \n",
       "..          ...          ...  ...                 ...             ... ..  ..   \n",
       "134         NaN          NaN  ...  SUMATERA UTARA III  Sumatera Utara  1  12   \n",
       "135         NaN          NaN  ...  SUMATERA UTARA III  Sumatera Utara  2   3   \n",
       "136         NaN          NaN  ...  SUMATERA UTARA III  Sumatera Utara  4  14   \n",
       "137         NaN          NaN  ...  SUMATERA UTARA III  Sumatera Utara  2  12   \n",
       "138         NaN          NaN  ...  SUMATERA UTARA III  Sumatera Utara  4  15   \n",
       "\n",
       "    P3 P4  P6 P7 PARPOL PresidenNew  \n",
       "0    5  1  18  1      5           3  \n",
       "1    2  1   6  3     22           3  \n",
       "2    1  1   6  3     22           3  \n",
       "3    8  1   4  5     22           3  \n",
       "4    8  1   4  7     22           3  \n",
       "..  .. ..  .. ..    ...         ...  \n",
       "134  8  3   5  4     22           3  \n",
       "135  8  1  10  6     22           3  \n",
       "136  8  1  18  1     22           3  \n",
       "137  3  1  10  5     22           3  \n",
       "138  4  1  10  4     22           3  \n",
       "\n",
       "[139 rows x 38 columns]"
      ],
      "text/html": "<div>\n<style scoped>\n    .dataframe tbody tr th:only-of-type {\n        vertical-align: middle;\n    }\n\n    .dataframe tbody tr th {\n        vertical-align: top;\n    }\n\n    .dataframe thead th {\n        text-align: right;\n    }\n</style>\n<table border=\"1\" class=\"dataframe\">\n  <thead>\n    <tr style=\"text-align: right;\">\n      <th></th>\n      <th>No Kuesioner</th>\n      <th>Nama Kuesioner</th>\n      <th>Nama Surveyor</th>\n      <th>No. Surveyor</th>\n      <th>Waktu Submit</th>\n      <th>Responden Asli / Pengganti</th>\n      <th>Kunjungan 1</th>\n      <th>Kunjungan 2</th>\n      <th>Kunjungan 3</th>\n      <th>Kunjungan 4</th>\n      <th>...</th>\n      <th>DAPIL</th>\n      <th>Provinsi</th>\n      <th>P1</th>\n      <th>P2</th>\n      <th>P3</th>\n      <th>P4</th>\n      <th>P6</th>\n      <th>P7</th>\n      <th>PARPOL</th>\n      <th>PresidenNew</th>\n    </tr>\n  </thead>\n  <tbody>\n    <tr>\n      <th>0</th>\n      <td>9</td>\n      <td>Kuesioner 9</td>\n      <td>Surveyor 1 Aceh Besar - Lambaro</td>\n      <td>302306658</td>\n      <td>05/04/2019</td>\n      <td>Asli</td>\n      <td>NaN</td>\n      <td>NaN</td>\n      <td>NaN</td>\n      <td>NaN</td>\n      <td>...</td>\n      <td>ACEH I</td>\n      <td>Aceh</td>\n      <td>4</td>\n      <td>4</td>\n      <td>5</td>\n      <td>1</td>\n      <td>18</td>\n      <td>1</td>\n      <td>5</td>\n      <td>3</td>\n    </tr>\n    <tr>\n      <th>1</th>\n      <td>123</td>\n      <td>Kuesioner 123</td>\n      <td>Surveyor 13 Kota Tangerang Selatan - Paku Jaya</td>\n      <td>104818320</td>\n      <td>02/04/2019</td>\n      <td>Pengganti</td>\n      <td>31 Mar 2019 15:49 Tidak ada di rumah</td>\n      <td>NaN</td>\n      <td>NaN</td>\n      <td>NaN</td>\n      <td>...</td>\n      <td>BANTEN III</td>\n      <td>Banten</td>\n      <td>1</td>\n      <td>16</td>\n      <td>2</td>\n      <td>1</td>\n      <td>6</td>\n      <td>3</td>\n      <td>22</td>\n      <td>3</td>\n    </tr>\n    <tr>\n      <th>2</th>\n      <td>124</td>\n      <td>Kuesioner 124</td>\n      <td>Surveyor 13 Kota Tangerang Selatan - Paku Jaya</td>\n      <td>104818320</td>\n      <td>02/04/2019</td>\n      <td>Pengganti</td>\n      <td>31 Mar 2019 16:38 Sudah pindah</td>\n      <td>NaN</td>\n      <td>NaN</td>\n      <td>NaN</td>\n      <td>...</td>\n      <td>BANTEN III</td>\n      <td>Banten</td>\n      <td>4</td>\n      <td>3</td>\n      <td>1</td>\n      <td>1</td>\n      <td>6</td>\n      <td>3</td>\n      <td>22</td>\n      <td>3</td>\n    </tr>\n    <tr>\n      <th>3</th>\n      <td>143</td>\n      <td>Kuesioner 143</td>\n      <td>Surveyor 15 Tangerang - Jatake</td>\n      <td>828954014</td>\n      <td>02/04/2019</td>\n      <td>Pengganti</td>\n      <td>30 Mar 2019 05:55 karena yang bersangkutan tid...</td>\n      <td>NaN</td>\n      <td>NaN</td>\n      <td>NaN</td>\n      <td>...</td>\n      <td>BANTEN III</td>\n      <td>Banten</td>\n      <td>2</td>\n      <td>17</td>\n      <td>8</td>\n      <td>1</td>\n      <td>4</td>\n      <td>5</td>\n      <td>22</td>\n      <td>3</td>\n    </tr>\n    <tr>\n      <th>4</th>\n      <td>144</td>\n      <td>Kuesioner 144</td>\n      <td>Surveyor 15 Tangerang - Jatake</td>\n      <td>828954014</td>\n      <td>02/04/2019</td>\n      <td>Asli</td>\n      <td>NaN</td>\n      <td>NaN</td>\n      <td>NaN</td>\n      <td>NaN</td>\n      <td>...</td>\n      <td>BANTEN III</td>\n      <td>Banten</td>\n      <td>3</td>\n      <td>3</td>\n      <td>8</td>\n      <td>1</td>\n      <td>4</td>\n      <td>7</td>\n      <td>22</td>\n      <td>3</td>\n    </tr>\n    <tr>\n      <th>...</th>\n      <td>...</td>\n      <td>...</td>\n      <td>...</td>\n      <td>...</td>\n      <td>...</td>\n      <td>...</td>\n      <td>...</td>\n      <td>...</td>\n      <td>...</td>\n      <td>...</td>\n      <td>...</td>\n      <td>...</td>\n      <td>...</td>\n      <td>...</td>\n      <td>...</td>\n      <td>...</td>\n      <td>...</td>\n      <td>...</td>\n      <td>...</td>\n      <td>...</td>\n      <td>...</td>\n    </tr>\n    <tr>\n      <th>134</th>\n      <td>1988</td>\n      <td>Kuesioner 1988</td>\n      <td>Surveyor 199 Batu Bara - Pulausejuk</td>\n      <td>665567563</td>\n      <td>31/03/2019</td>\n      <td>Asli</td>\n      <td>NaN</td>\n      <td>NaN</td>\n      <td>NaN</td>\n      <td>NaN</td>\n      <td>...</td>\n      <td>SUMATERA UTARA III</td>\n      <td>Sumatera Utara</td>\n      <td>1</td>\n      <td>12</td>\n      <td>8</td>\n      <td>3</td>\n      <td>5</td>\n      <td>4</td>\n      <td>22</td>\n      <td>3</td>\n    </tr>\n    <tr>\n      <th>135</th>\n      <td>1994</td>\n      <td>Kuesioner 1994</td>\n      <td>Surveyor 200 Langkat - Naman Jahe</td>\n      <td>405678149</td>\n      <td>29/03/2019</td>\n      <td>Asli</td>\n      <td>NaN</td>\n      <td>NaN</td>\n      <td>NaN</td>\n      <td>NaN</td>\n      <td>...</td>\n      <td>SUMATERA UTARA III</td>\n      <td>Sumatera Utara</td>\n      <td>2</td>\n      <td>3</td>\n      <td>8</td>\n      <td>1</td>\n      <td>10</td>\n      <td>6</td>\n      <td>22</td>\n      <td>3</td>\n    </tr>\n    <tr>\n      <th>136</th>\n      <td>1997</td>\n      <td>Kuesioner 1997</td>\n      <td>Surveyor 200 Langkat - Naman Jahe</td>\n      <td>405678149</td>\n      <td>30/03/2019</td>\n      <td>Asli</td>\n      <td>NaN</td>\n      <td>NaN</td>\n      <td>NaN</td>\n      <td>NaN</td>\n      <td>...</td>\n      <td>SUMATERA UTARA III</td>\n      <td>Sumatera Utara</td>\n      <td>4</td>\n      <td>14</td>\n      <td>8</td>\n      <td>1</td>\n      <td>18</td>\n      <td>1</td>\n      <td>22</td>\n      <td>3</td>\n    </tr>\n    <tr>\n      <th>137</th>\n      <td>1999</td>\n      <td>Kuesioner 1999</td>\n      <td>Surveyor 200 Langkat - Naman Jahe</td>\n      <td>405678149</td>\n      <td>30/03/2019</td>\n      <td>Pengganti</td>\n      <td>30 Mar 2019 13:03 SUDAH MENINGGAL</td>\n      <td>NaN</td>\n      <td>NaN</td>\n      <td>NaN</td>\n      <td>...</td>\n      <td>SUMATERA UTARA III</td>\n      <td>Sumatera Utara</td>\n      <td>2</td>\n      <td>12</td>\n      <td>3</td>\n      <td>1</td>\n      <td>10</td>\n      <td>5</td>\n      <td>22</td>\n      <td>3</td>\n    </tr>\n    <tr>\n      <th>138</th>\n      <td>2000</td>\n      <td>Kuesioner 2000</td>\n      <td>Surveyor 200 Langkat - Naman Jahe</td>\n      <td>405678149</td>\n      <td>30/03/2019</td>\n      <td>Pengganti</td>\n      <td>30 Mar 2019 12:40 TIDAK ADA DIRUMAH</td>\n      <td>NaN</td>\n      <td>NaN</td>\n      <td>NaN</td>\n      <td>...</td>\n      <td>SUMATERA UTARA III</td>\n      <td>Sumatera Utara</td>\n      <td>4</td>\n      <td>15</td>\n      <td>4</td>\n      <td>1</td>\n      <td>10</td>\n      <td>4</td>\n      <td>22</td>\n      <td>3</td>\n    </tr>\n  </tbody>\n</table>\n<p>139 rows × 38 columns</p>\n</div>"
     },
     "metadata": {},
     "execution_count": 121
    }
   ],
   "source": [
    "pd.read_csv(r'/Users/owen/Desktop/example.csv')"
   ]
  },
  {
   "cell_type": "code",
   "execution_count": 123,
   "metadata": {},
   "outputs": [
    {
     "output_type": "execute_result",
     "data": {
      "text/plain": [
       "     No Kuesioner  Nama Kuesioner  \\\n",
       "0               9     Kuesioner 9   \n",
       "1             123   Kuesioner 123   \n",
       "2             124   Kuesioner 124   \n",
       "3             143   Kuesioner 143   \n",
       "4             144   Kuesioner 144   \n",
       "..            ...             ...   \n",
       "134          1988  Kuesioner 1988   \n",
       "135          1994  Kuesioner 1994   \n",
       "136          1997  Kuesioner 1997   \n",
       "137          1999  Kuesioner 1999   \n",
       "138          2000  Kuesioner 2000   \n",
       "\n",
       "                                      Nama Surveyor  No. Surveyor  \\\n",
       "0                   Surveyor 1 Aceh Besar - Lambaro     302306658   \n",
       "1    Surveyor 13 Kota Tangerang Selatan - Paku Jaya     104818320   \n",
       "2    Surveyor 13 Kota Tangerang Selatan - Paku Jaya     104818320   \n",
       "3                    Surveyor 15 Tangerang - Jatake     828954014   \n",
       "4                    Surveyor 15 Tangerang - Jatake     828954014   \n",
       "..                                              ...           ...   \n",
       "134             Surveyor 199 Batu Bara - Pulausejuk     665567563   \n",
       "135               Surveyor 200 Langkat - Naman Jahe     405678149   \n",
       "136               Surveyor 200 Langkat - Naman Jahe     405678149   \n",
       "137               Surveyor 200 Langkat - Naman Jahe     405678149   \n",
       "138               Surveyor 200 Langkat - Naman Jahe     405678149   \n",
       "\n",
       "    Waktu Submit Responden Asli / Pengganti  \\\n",
       "0     05/04/2019                       Asli   \n",
       "1     02/04/2019                  Pengganti   \n",
       "2     02/04/2019                  Pengganti   \n",
       "3     02/04/2019                  Pengganti   \n",
       "4     02/04/2019                       Asli   \n",
       "..           ...                        ...   \n",
       "134   31/03/2019                       Asli   \n",
       "135   29/03/2019                       Asli   \n",
       "136   30/03/2019                       Asli   \n",
       "137   30/03/2019                  Pengganti   \n",
       "138   30/03/2019                  Pengganti   \n",
       "\n",
       "                                           Kunjungan 1 Kunjungan 2  \\\n",
       "0                                                  NaN         NaN   \n",
       "1                 31 Mar 2019 15:49 Tidak ada di rumah         NaN   \n",
       "2                       31 Mar 2019 16:38 Sudah pindah         NaN   \n",
       "3    30 Mar 2019 05:55 karena yang bersangkutan tid...         NaN   \n",
       "4                                                  NaN         NaN   \n",
       "..                                                 ...         ...   \n",
       "134                                                NaN         NaN   \n",
       "135                                                NaN         NaN   \n",
       "136                                                NaN         NaN   \n",
       "137                  30 Mar 2019 13:03 SUDAH MENINGGAL         NaN   \n",
       "138                30 Mar 2019 12:40 TIDAK ADA DIRUMAH         NaN   \n",
       "\n",
       "    Kunjungan 3  Kunjungan 4  ...               DAPIL        Provinsi P1  P2  \\\n",
       "0           NaN          NaN  ...              ACEH I            Aceh  4   4   \n",
       "1           NaN          NaN  ...          BANTEN III          Banten  1  16   \n",
       "2           NaN          NaN  ...          BANTEN III          Banten  4   3   \n",
       "3           NaN          NaN  ...          BANTEN III          Banten  2  17   \n",
       "4           NaN          NaN  ...          BANTEN III          Banten  3   3   \n",
       "..          ...          ...  ...                 ...             ... ..  ..   \n",
       "134         NaN          NaN  ...  SUMATERA UTARA III  Sumatera Utara  1  12   \n",
       "135         NaN          NaN  ...  SUMATERA UTARA III  Sumatera Utara  2   3   \n",
       "136         NaN          NaN  ...  SUMATERA UTARA III  Sumatera Utara  4  14   \n",
       "137         NaN          NaN  ...  SUMATERA UTARA III  Sumatera Utara  2  12   \n",
       "138         NaN          NaN  ...  SUMATERA UTARA III  Sumatera Utara  4  15   \n",
       "\n",
       "    P3 P4  P6 P7 PARPOL PresidenNew  \n",
       "0    5  1  18  1      5           3  \n",
       "1    2  1   6  3     22           3  \n",
       "2    1  1   6  3     22           3  \n",
       "3    8  1   4  5     22           3  \n",
       "4    8  1   4  7     22           3  \n",
       "..  .. ..  .. ..    ...         ...  \n",
       "134  8  3   5  4     22           3  \n",
       "135  8  1  10  6     22           3  \n",
       "136  8  1  18  1     22           3  \n",
       "137  3  1  10  5     22           3  \n",
       "138  4  1  10  4     22           3  \n",
       "\n",
       "[139 rows x 38 columns]"
      ],
      "text/html": "<div>\n<style scoped>\n    .dataframe tbody tr th:only-of-type {\n        vertical-align: middle;\n    }\n\n    .dataframe tbody tr th {\n        vertical-align: top;\n    }\n\n    .dataframe thead th {\n        text-align: right;\n    }\n</style>\n<table border=\"1\" class=\"dataframe\">\n  <thead>\n    <tr style=\"text-align: right;\">\n      <th></th>\n      <th>No Kuesioner</th>\n      <th>Nama Kuesioner</th>\n      <th>Nama Surveyor</th>\n      <th>No. Surveyor</th>\n      <th>Waktu Submit</th>\n      <th>Responden Asli / Pengganti</th>\n      <th>Kunjungan 1</th>\n      <th>Kunjungan 2</th>\n      <th>Kunjungan 3</th>\n      <th>Kunjungan 4</th>\n      <th>...</th>\n      <th>DAPIL</th>\n      <th>Provinsi</th>\n      <th>P1</th>\n      <th>P2</th>\n      <th>P3</th>\n      <th>P4</th>\n      <th>P6</th>\n      <th>P7</th>\n      <th>PARPOL</th>\n      <th>PresidenNew</th>\n    </tr>\n  </thead>\n  <tbody>\n    <tr>\n      <th>0</th>\n      <td>9</td>\n      <td>Kuesioner 9</td>\n      <td>Surveyor 1 Aceh Besar - Lambaro</td>\n      <td>302306658</td>\n      <td>05/04/2019</td>\n      <td>Asli</td>\n      <td>NaN</td>\n      <td>NaN</td>\n      <td>NaN</td>\n      <td>NaN</td>\n      <td>...</td>\n      <td>ACEH I</td>\n      <td>Aceh</td>\n      <td>4</td>\n      <td>4</td>\n      <td>5</td>\n      <td>1</td>\n      <td>18</td>\n      <td>1</td>\n      <td>5</td>\n      <td>3</td>\n    </tr>\n    <tr>\n      <th>1</th>\n      <td>123</td>\n      <td>Kuesioner 123</td>\n      <td>Surveyor 13 Kota Tangerang Selatan - Paku Jaya</td>\n      <td>104818320</td>\n      <td>02/04/2019</td>\n      <td>Pengganti</td>\n      <td>31 Mar 2019 15:49 Tidak ada di rumah</td>\n      <td>NaN</td>\n      <td>NaN</td>\n      <td>NaN</td>\n      <td>...</td>\n      <td>BANTEN III</td>\n      <td>Banten</td>\n      <td>1</td>\n      <td>16</td>\n      <td>2</td>\n      <td>1</td>\n      <td>6</td>\n      <td>3</td>\n      <td>22</td>\n      <td>3</td>\n    </tr>\n    <tr>\n      <th>2</th>\n      <td>124</td>\n      <td>Kuesioner 124</td>\n      <td>Surveyor 13 Kota Tangerang Selatan - Paku Jaya</td>\n      <td>104818320</td>\n      <td>02/04/2019</td>\n      <td>Pengganti</td>\n      <td>31 Mar 2019 16:38 Sudah pindah</td>\n      <td>NaN</td>\n      <td>NaN</td>\n      <td>NaN</td>\n      <td>...</td>\n      <td>BANTEN III</td>\n      <td>Banten</td>\n      <td>4</td>\n      <td>3</td>\n      <td>1</td>\n      <td>1</td>\n      <td>6</td>\n      <td>3</td>\n      <td>22</td>\n      <td>3</td>\n    </tr>\n    <tr>\n      <th>3</th>\n      <td>143</td>\n      <td>Kuesioner 143</td>\n      <td>Surveyor 15 Tangerang - Jatake</td>\n      <td>828954014</td>\n      <td>02/04/2019</td>\n      <td>Pengganti</td>\n      <td>30 Mar 2019 05:55 karena yang bersangkutan tid...</td>\n      <td>NaN</td>\n      <td>NaN</td>\n      <td>NaN</td>\n      <td>...</td>\n      <td>BANTEN III</td>\n      <td>Banten</td>\n      <td>2</td>\n      <td>17</td>\n      <td>8</td>\n      <td>1</td>\n      <td>4</td>\n      <td>5</td>\n      <td>22</td>\n      <td>3</td>\n    </tr>\n    <tr>\n      <th>4</th>\n      <td>144</td>\n      <td>Kuesioner 144</td>\n      <td>Surveyor 15 Tangerang - Jatake</td>\n      <td>828954014</td>\n      <td>02/04/2019</td>\n      <td>Asli</td>\n      <td>NaN</td>\n      <td>NaN</td>\n      <td>NaN</td>\n      <td>NaN</td>\n      <td>...</td>\n      <td>BANTEN III</td>\n      <td>Banten</td>\n      <td>3</td>\n      <td>3</td>\n      <td>8</td>\n      <td>1</td>\n      <td>4</td>\n      <td>7</td>\n      <td>22</td>\n      <td>3</td>\n    </tr>\n    <tr>\n      <th>...</th>\n      <td>...</td>\n      <td>...</td>\n      <td>...</td>\n      <td>...</td>\n      <td>...</td>\n      <td>...</td>\n      <td>...</td>\n      <td>...</td>\n      <td>...</td>\n      <td>...</td>\n      <td>...</td>\n      <td>...</td>\n      <td>...</td>\n      <td>...</td>\n      <td>...</td>\n      <td>...</td>\n      <td>...</td>\n      <td>...</td>\n      <td>...</td>\n      <td>...</td>\n      <td>...</td>\n    </tr>\n    <tr>\n      <th>134</th>\n      <td>1988</td>\n      <td>Kuesioner 1988</td>\n      <td>Surveyor 199 Batu Bara - Pulausejuk</td>\n      <td>665567563</td>\n      <td>31/03/2019</td>\n      <td>Asli</td>\n      <td>NaN</td>\n      <td>NaN</td>\n      <td>NaN</td>\n      <td>NaN</td>\n      <td>...</td>\n      <td>SUMATERA UTARA III</td>\n      <td>Sumatera Utara</td>\n      <td>1</td>\n      <td>12</td>\n      <td>8</td>\n      <td>3</td>\n      <td>5</td>\n      <td>4</td>\n      <td>22</td>\n      <td>3</td>\n    </tr>\n    <tr>\n      <th>135</th>\n      <td>1994</td>\n      <td>Kuesioner 1994</td>\n      <td>Surveyor 200 Langkat - Naman Jahe</td>\n      <td>405678149</td>\n      <td>29/03/2019</td>\n      <td>Asli</td>\n      <td>NaN</td>\n      <td>NaN</td>\n      <td>NaN</td>\n      <td>NaN</td>\n      <td>...</td>\n      <td>SUMATERA UTARA III</td>\n      <td>Sumatera Utara</td>\n      <td>2</td>\n      <td>3</td>\n      <td>8</td>\n      <td>1</td>\n      <td>10</td>\n      <td>6</td>\n      <td>22</td>\n      <td>3</td>\n    </tr>\n    <tr>\n      <th>136</th>\n      <td>1997</td>\n      <td>Kuesioner 1997</td>\n      <td>Surveyor 200 Langkat - Naman Jahe</td>\n      <td>405678149</td>\n      <td>30/03/2019</td>\n      <td>Asli</td>\n      <td>NaN</td>\n      <td>NaN</td>\n      <td>NaN</td>\n      <td>NaN</td>\n      <td>...</td>\n      <td>SUMATERA UTARA III</td>\n      <td>Sumatera Utara</td>\n      <td>4</td>\n      <td>14</td>\n      <td>8</td>\n      <td>1</td>\n      <td>18</td>\n      <td>1</td>\n      <td>22</td>\n      <td>3</td>\n    </tr>\n    <tr>\n      <th>137</th>\n      <td>1999</td>\n      <td>Kuesioner 1999</td>\n      <td>Surveyor 200 Langkat - Naman Jahe</td>\n      <td>405678149</td>\n      <td>30/03/2019</td>\n      <td>Pengganti</td>\n      <td>30 Mar 2019 13:03 SUDAH MENINGGAL</td>\n      <td>NaN</td>\n      <td>NaN</td>\n      <td>NaN</td>\n      <td>...</td>\n      <td>SUMATERA UTARA III</td>\n      <td>Sumatera Utara</td>\n      <td>2</td>\n      <td>12</td>\n      <td>3</td>\n      <td>1</td>\n      <td>10</td>\n      <td>5</td>\n      <td>22</td>\n      <td>3</td>\n    </tr>\n    <tr>\n      <th>138</th>\n      <td>2000</td>\n      <td>Kuesioner 2000</td>\n      <td>Surveyor 200 Langkat - Naman Jahe</td>\n      <td>405678149</td>\n      <td>30/03/2019</td>\n      <td>Pengganti</td>\n      <td>30 Mar 2019 12:40 TIDAK ADA DIRUMAH</td>\n      <td>NaN</td>\n      <td>NaN</td>\n      <td>NaN</td>\n      <td>...</td>\n      <td>SUMATERA UTARA III</td>\n      <td>Sumatera Utara</td>\n      <td>4</td>\n      <td>15</td>\n      <td>4</td>\n      <td>1</td>\n      <td>10</td>\n      <td>4</td>\n      <td>22</td>\n      <td>3</td>\n    </tr>\n  </tbody>\n</table>\n<p>139 rows × 38 columns</p>\n</div>"
     },
     "metadata": {},
     "execution_count": 123
    }
   ],
   "source": [
    "pd.read_excel(r'/Users/owen/Desktop/contoh excel.xlsx')"
   ]
  }
 ]
}